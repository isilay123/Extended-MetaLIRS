{
 "cells": [
  {
   "cell_type": "code",
   "execution_count": 1,
   "id": "59c6504e-085c-4499-b48f-f6245150b680",
   "metadata": {},
   "outputs": [
    {
     "ename": "FileNotFoundError",
     "evalue": "[Errno 2] No such file or directory: 'MAR_model.pkl'",
     "output_type": "error",
     "traceback": [
      "\u001b[1;31m---------------------------------------------------------------------------\u001b[0m",
      "\u001b[1;31mFileNotFoundError\u001b[0m                         Traceback (most recent call last)",
      "Cell \u001b[1;32mIn[1], line 3\u001b[0m\n\u001b[0;32m      1\u001b[0m \u001b[38;5;66;03m#EXAMPLE\u001b[39;00m\n\u001b[0;32m      2\u001b[0m \u001b[38;5;28;01mimport\u001b[39;00m \u001b[38;5;21;01mjoblib\u001b[39;00m\n\u001b[1;32m----> 3\u001b[0m loaded_model \u001b[38;5;241m=\u001b[39m joblib\u001b[38;5;241m.\u001b[39mload(\u001b[38;5;124m'\u001b[39m\u001b[38;5;124mMAR_model.pkl\u001b[39m\u001b[38;5;124m'\u001b[39m)\n\u001b[0;32m      4\u001b[0m loaded_model\n",
      "File \u001b[1;32mC:\\ProgramData\\anaconda3\\Lib\\site-packages\\joblib\\numpy_pickle.py:650\u001b[0m, in \u001b[0;36mload\u001b[1;34m(filename, mmap_mode)\u001b[0m\n\u001b[0;32m    648\u001b[0m         obj \u001b[38;5;241m=\u001b[39m _unpickle(fobj)\n\u001b[0;32m    649\u001b[0m \u001b[38;5;28;01melse\u001b[39;00m:\n\u001b[1;32m--> 650\u001b[0m     \u001b[38;5;28;01mwith\u001b[39;00m \u001b[38;5;28mopen\u001b[39m(filename, \u001b[38;5;124m'\u001b[39m\u001b[38;5;124mrb\u001b[39m\u001b[38;5;124m'\u001b[39m) \u001b[38;5;28;01mas\u001b[39;00m f:\n\u001b[0;32m    651\u001b[0m         \u001b[38;5;28;01mwith\u001b[39;00m _read_fileobject(f, filename, mmap_mode) \u001b[38;5;28;01mas\u001b[39;00m fobj:\n\u001b[0;32m    652\u001b[0m             \u001b[38;5;28;01mif\u001b[39;00m \u001b[38;5;28misinstance\u001b[39m(fobj, \u001b[38;5;28mstr\u001b[39m):\n\u001b[0;32m    653\u001b[0m                 \u001b[38;5;66;03m# if the returned file object is a string, this means we\u001b[39;00m\n\u001b[0;32m    654\u001b[0m                 \u001b[38;5;66;03m# try to load a pickle file generated with an version of\u001b[39;00m\n\u001b[0;32m    655\u001b[0m                 \u001b[38;5;66;03m# Joblib so we load it with joblib compatibility function.\u001b[39;00m\n",
      "\u001b[1;31mFileNotFoundError\u001b[0m: [Errno 2] No such file or directory: 'MAR_model.pkl'"
     ]
    }
   ],
   "source": [
    "#EXAMPLE\n",
    "import joblib\n",
    "loaded_model = joblib.load('MAR_model.pkl')\n",
    "loaded_model"
   ]
  },
  {
   "cell_type": "code",
   "execution_count": null,
   "id": "369c7442-1849-4459-a2e6-698e44ff70a2",
   "metadata": {},
   "outputs": [],
   "source": [
    "import pandas as pd\n",
    "import joblib\n",
    "import time\n",
    "# Test verilerini tanımla\n",
    "data = {\n",
    "   'MF1': [0.01],\n",
    "  'MF2': [6],\n",
    "    'MF3': [1199],\n",
    "    'MF10': [10.6766119],\n",
    "    'MF11': [-3.688749075],\n",
    "    'MF7': [11],\n",
    "    'MF8': [0.001213285],\n",
    "    'MF9': [5.638865721],\n",
    "    'MF4': [0.009174312],\n",
    "    'MF5': [1.001981475],\n",
    "    'MF6': [0.806188945],\n",
    "    'MF12': [1.003966877],\n",
    "    'MF13': [0.649398547],\n",
    "    'MF14': [0.273945332],\n",
    "    'MF15': [0.300313997],\n",
    "    'MF16': [0.191717953],\n",
    "    'MF17': [0.474580279],\n",
    "    'MF18': [-0.408216886],\n",
    "    'MF19': [0.275447064],\n",
    "    'MF20': [0.016343485],\n",
    "    'MF21': [0.367937988],\n",
    "    'MF22': [4.135456623],\n",
    "    'MF23': [0.626355296],\n",
    "    'MF24': [0.347209569],\n",
    "    'MF25': [109],\n",
    "    'MF26': [8.10327071],\n",
    "    'MF27': [1.675582541],\n",
    "    'MF28': [0.23782617],\n",
    "    'MF29': [0.385720405],\n",
    "    'MF30': [0.452527583],\n",
    "    'MF31': [6],\n",
    "    'MF32': [5],\n",
    "    'MF33': [-0.643731177]\n",
    "}\n",
    "\n",
    "\n",
    "X_test = pd.DataFrame(data)\n",
    "\n",
    "\n",
    "model = joblib.load('MAR_model_accuracy.pkl')\n",
    "if hasattr(model, 'predict'):\n",
    "    \n",
    "    y_pred = model.predict(X_test)\n",
    "      \n",
    "    \n",
    "    print(\"Predictions:\", y_pred)\n",
    "   \n",
    "else:\n",
    "    print(\"The loaded object is not a model with a predict method.\")\n"
   ]
  }
 ],
 "metadata": {
  "kernelspec": {
   "display_name": "Python 3 (ipykernel)",
   "language": "python",
   "name": "python3"
  },
  "language_info": {
   "codemirror_mode": {
    "name": "ipython",
    "version": 3
   },
   "file_extension": ".py",
   "mimetype": "text/x-python",
   "name": "python",
   "nbconvert_exporter": "python",
   "pygments_lexer": "ipython3",
   "version": "3.12.7"
  }
 },
 "nbformat": 4,
 "nbformat_minor": 5
}
